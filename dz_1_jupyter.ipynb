{
 "cells": [
  {
   "cell_type": "markdown",
   "id": "040746c9",
   "metadata": {},
   "source": [
    "## Условие 2:\n",
    " На складе лежат разные фрукты в разном количестве.\n",
    "Нужно написать функцию, которая на вход принимает любое количество названий фруктов и их количество, а возвращает общее количество фруктов на складе"
   ]
  },
  {
   "cell_type": "code",
   "execution_count": 16,
   "id": "d1c5d812",
   "metadata": {},
   "outputs": [],
   "source": [
    "def calculate_fruits(fruits):\n",
    "    return sum(fruits.values())"
   ]
  },
  {
   "cell_type": "code",
   "execution_count": 17,
   "id": "b394c3b7",
   "metadata": {},
   "outputs": [
    {
     "name": "stdout",
     "output_type": "stream",
     "text": [
      "Общее количество фруктов на складе: 162\n"
     ]
    }
   ],
   "source": [
    "fruits = {\"яблоки\": 110, \"бананы\": 50, \"апельсины\": 2}\n",
    "total_fruits = calculate_fruits(fruits)\n",
    "print( \"Общее количество фруктов на складе:\", total_fruits)  "
   ]
  },
  {
   "cell_type": "markdown",
   "id": "1a4c263a",
   "metadata": {},
   "source": [
    "### Условие 3: \n",
    "Дан список с затратами на рекламу. Но в данных есть ошибки, некоторые затраты имеют отрицательную величину. Удалите такие значения из списка и посчитайте суммарные затраты\n",
    "[100, 125, -90, 345, 655, -1, 0, 200]\n",
    "Используйте list comprehensions"
   ]
  },
  {
   "cell_type": "code",
   "execution_count": 30,
   "id": "687e1aa7",
   "metadata": {},
   "outputs": [],
   "source": [
    "costs_list = [100, 125, -90, 345, 655, -1, 0, 200]"
   ]
  },
  {
   "cell_type": "code",
   "execution_count": 31,
   "id": "297c25ce",
   "metadata": {},
   "outputs": [
    {
     "name": "stdout",
     "output_type": "stream",
     "text": [
      "Суммарные затраты: 1425\n"
     ]
    }
   ],
   "source": [
    "positive_costs = [cost for cost in costs_list if cost >= 0]\n",
    "total_costs = sum(positive_costs)\n",
    "\n",
    "print(\"Суммарные затраты:\", total_costs)"
   ]
  },
  {
   "cell_type": "markdown",
   "id": "23b4f2b0",
   "metadata": {},
   "source": [
    "### Условие 4: \n",
    "Даны два списка.\n"
   ]
  },
  {
   "cell_type": "markdown",
   "id": "f458f1b9",
   "metadata": {},
   "source": [
    "* Дата покупки\n",
    "['2021-09-14', '2021-12-15', '2021-09-08', '2021-12-05', '2021-10-09', '2021-09-30', '2021-12-22', '2021-11-29', '2021-12-24', \n",
    " '2021-11-26', '2021-10-27', '2021-12-18', '2021-11-09', '2021-11-23', '2021-09-27', '2021-10-02', '2021-12-27', '2021-09-20',\n",
    " '2021-12-13', '2021-11-01', '2021-11-09', '2021-12-06', '2021-12-08', '2021-10-09', '2021-10-31', '2021-09-30', '2021-11-09',\n",
    " '2021-12-13', '2021-10-26', '2021-12-09']\n",
    "* Суммы покупок по датам\n",
    "[1270, 8413, 9028, 3703, 5739, 4095, 295, 4944, 5723, 3701, 4471, 651, 7037, 4274, 6275,\n",
    " 4988, 6930, 2971, 6592, 2004, 2822, 519, 3406, 2732, 5015, 2008, 316, 6333, 5700, 2887]"
   ]
  },
  {
   "cell_type": "markdown",
   "id": "8a058178",
   "metadata": {},
   "source": [
    "## 4.1 Найдите, какая выручка у компании в ноябре\n",
    "Используйте list comprehensions\n",
    "## 4.2 Найдите выручку компании в зависимости от месяца\n",
    "Для этого напишите функцию, которая на вход принимает список с датами и список с выручкой, а на выходе словарь, где ключи - это месяцы, а значения - это выручка.\n",
    "Используйте аннотирование типов"
   ]
  },
  {
   "cell_type": "code",
   "execution_count": 34,
   "id": "2fb352f6",
   "metadata": {},
   "outputs": [],
   "source": [
    "dates = ['2021-09-14', '2021-12-15', '2021-09-08', '2021-12-05', '2021-10-09', \n",
    "         '2021-09-30', '2021-12-22', '2021-11-29', '2021-12-24', '2021-11-26', \n",
    "         '2021-10-27', '2021-12-18', '2021-11-09', '2021-11-23', '2021-09-27', \n",
    "         '2021-10-02', '2021-12-27', '2021-09-20', '2021-12-13', '2021-11-01', \n",
    "         '2021-11-09', '2021-12-06', '2021-12-08', '2021-10-09', '2021-10-31',\n",
    "         '2021-09-30', '2021-11-09', '2021-12-13', '2021-10-26', '2021-12-09']\n",
    "amounts = [1270, 8413, 9028, 3703, 5739, 4095, 295, 4944, 5723, 3701, 4471, 651, \n",
    "           7037, 4274, 6275, 4988, 6930, 2971, 6592, 2004, 2822, 519, 3406, 2732,\n",
    "           5015, 2008, 316, 6333, 5700, 2887]\n",
    "\n"
   ]
  },
  {
   "cell_type": "code",
   "execution_count": 37,
   "id": "eebc846f",
   "metadata": {},
   "outputs": [],
   "source": [
    "from datetime import datetime\n",
    "from typing import List, Dict"
   ]
  },
  {
   "cell_type": "code",
   "execution_count": 38,
   "id": "8df80daa",
   "metadata": {},
   "outputs": [],
   "source": [
    "def calculate_revenue_november(dates: List[str], amounts: List[int]) -> int:\n",
    "    november_revenue = sum([amount for date, amount in zip(dates, amounts) if datetime.strptime(date, \"%Y-%m-%d\").month == 11])\n",
    "    return november_revenue"
   ]
  },
  {
   "cell_type": "code",
   "execution_count": 39,
   "id": "45559e24",
   "metadata": {},
   "outputs": [
    {
     "name": "stdout",
     "output_type": "stream",
     "text": [
      "Выручка компании в ноябре: 25098\n"
     ]
    }
   ],
   "source": [
    "november_revenue = calculate_revenue_november(dates, amounts)\n",
    "print(\"Выручка компании в ноябре:\", november_revenue)"
   ]
  },
  {
   "cell_type": "code",
   "execution_count": 40,
   "id": "cdc3e84c",
   "metadata": {},
   "outputs": [],
   "source": [
    "def calculate_monthly_revenue(dates: List[str], amounts: List[int]) -> Dict[int, int]:\n",
    "    monthly_revenue: Dict[int, int] = {}\n",
    "\n",
    "    for date, amount in zip(dates, amounts):\n",
    "        month = datetime.strptime(date, \"%Y-%m-%d\").month\n",
    "        if month in monthly_revenue:\n",
    "            monthly_revenue[month] += amount\n",
    "        else:\n",
    "            monthly_revenue[month] = amount\n",
    "    \n",
    "    return monthly_revenue"
   ]
  },
  {
   "cell_type": "code",
   "execution_count": 41,
   "id": "b1794014",
   "metadata": {},
   "outputs": [
    {
     "name": "stdout",
     "output_type": "stream",
     "text": [
      "Выручка компании по месяцам: {9: 25647, 12: 45452, 10: 28645, 11: 25098}\n"
     ]
    }
   ],
   "source": [
    "revenue_by_month = calculate_monthly_revenue(dates, amounts)\n",
    "print(\"Выручка компании по месяцам:\", revenue_by_month)"
   ]
  },
  {
   "cell_type": "code",
   "execution_count": null,
   "id": "43bbb82c",
   "metadata": {},
   "outputs": [],
   "source": []
  }
 ],
 "metadata": {
  "kernelspec": {
   "display_name": "Python 3 (ipykernel)",
   "language": "python",
   "name": "python3"
  },
  "language_info": {
   "codemirror_mode": {
    "name": "ipython",
    "version": 3
   },
   "file_extension": ".py",
   "mimetype": "text/x-python",
   "name": "python",
   "nbconvert_exporter": "python",
   "pygments_lexer": "ipython3",
   "version": "3.9.13"
  }
 },
 "nbformat": 4,
 "nbformat_minor": 5
}
